{
  "nbformat": 4,
  "nbformat_minor": 0,
  "metadata": {
    "colab": {
      "name": "Linear_Regression.ipynb",
      "provenance": [],
      "include_colab_link": true
    },
    "kernelspec": {
      "name": "python3",
      "display_name": "Python 3"
    }
  },
  "cells": [
    {
      "cell_type": "markdown",
      "metadata": {
        "id": "view-in-github",
        "colab_type": "text"
      },
      "source": [
        "<a href=\"https://colab.research.google.com/github/prachi1234bansal/Student_score_TASK1/blob/main/Linear_Regression.ipynb\" target=\"_parent\"><img src=\"https://colab.research.google.com/assets/colab-badge.svg\" alt=\"Open In Colab\"/></a>"
      ]
    },
    {
      "cell_type": "markdown",
      "metadata": {
        "id": "sNTnYWab_Mnt"
      },
      "source": [
        "**Prediction using Supervised ML -STUDENT SCORE #TASK 1 **            \r\n",
        "Author-PRACHI BANSAL  \r\n",
        "DATA SCIENCE AND BUSINESS ANALYTICS INTERNSHIP@SPARKS_FOUNDATION              ****   \r\n",
        "           **SIMPLE LINEAR REGRESSION #TASK1:\"In this task we will predict the marks percentage that a student is expected based on the hours of student.**"
      ]
    },
    {
      "cell_type": "code",
      "metadata": {
        "id": "4e6a_wp4WBF6"
      },
      "source": [
        "#Importing all libraries required in this notebook\n",
        "import numpy as np;\n",
        "import matplotlib.pyplot as plt\n",
        "import pandas as pd;\n",
        "%matplotlib inline"
      ],
      "execution_count": null,
      "outputs": []
    },
    {
      "cell_type": "markdown",
      "metadata": {
        "id": "FfME07xF_K4J"
      },
      "source": [
        ""
      ]
    },
    {
      "cell_type": "code",
      "metadata": {
        "colab": {
          "base_uri": "https://localhost:8080/",
          "height": 212
        },
        "id": "V52XcGaxhqRG",
        "outputId": "e363c258-9152-4549-c7b8-64a55d953801"
      },
      "source": [
        "#Reading the data from remote link\n",
        "url=\"http://bit.ly/w-data\"\n",
        "data=pd.read_csv(url)\n",
        "print(\"Data imported successfully!!\")\n",
        "data.head(5)\n"
      ],
      "execution_count": null,
      "outputs": [
        {
          "output_type": "stream",
          "text": [
            "Data imported successfully!!\n"
          ],
          "name": "stdout"
        },
        {
          "output_type": "execute_result",
          "data": {
            "text/html": [
              "<div>\n",
              "<style scoped>\n",
              "    .dataframe tbody tr th:only-of-type {\n",
              "        vertical-align: middle;\n",
              "    }\n",
              "\n",
              "    .dataframe tbody tr th {\n",
              "        vertical-align: top;\n",
              "    }\n",
              "\n",
              "    .dataframe thead th {\n",
              "        text-align: right;\n",
              "    }\n",
              "</style>\n",
              "<table border=\"1\" class=\"dataframe\">\n",
              "  <thead>\n",
              "    <tr style=\"text-align: right;\">\n",
              "      <th></th>\n",
              "      <th>Hours</th>\n",
              "      <th>Scores</th>\n",
              "    </tr>\n",
              "  </thead>\n",
              "  <tbody>\n",
              "    <tr>\n",
              "      <th>0</th>\n",
              "      <td>2.5</td>\n",
              "      <td>21</td>\n",
              "    </tr>\n",
              "    <tr>\n",
              "      <th>1</th>\n",
              "      <td>5.1</td>\n",
              "      <td>47</td>\n",
              "    </tr>\n",
              "    <tr>\n",
              "      <th>2</th>\n",
              "      <td>3.2</td>\n",
              "      <td>27</td>\n",
              "    </tr>\n",
              "    <tr>\n",
              "      <th>3</th>\n",
              "      <td>8.5</td>\n",
              "      <td>75</td>\n",
              "    </tr>\n",
              "    <tr>\n",
              "      <th>4</th>\n",
              "      <td>3.5</td>\n",
              "      <td>30</td>\n",
              "    </tr>\n",
              "  </tbody>\n",
              "</table>\n",
              "</div>"
            ],
            "text/plain": [
              "   Hours  Scores\n",
              "0    2.5      21\n",
              "1    5.1      47\n",
              "2    3.2      27\n",
              "3    8.5      75\n",
              "4    3.5      30"
            ]
          },
          "metadata": {
            "tags": []
          },
          "execution_count": 5
        }
      ]
    },
    {
      "cell_type": "code",
      "metadata": {
        "colab": {
          "base_uri": "https://localhost:8080/",
          "height": 295
        },
        "id": "E_5QncKIiuEy",
        "outputId": "8c2b2a2d-1c93-45e3-f48d-cf5bef4ab975"
      },
      "source": [
        "#Plotting the distribution of scores\n",
        "data.plot(x=\"Hours\",y=\"Scores\",style=\"*\")\n",
        "plt.title(\"Hours VS Percentage\")\n",
        "plt.xlabel(\"Hours studied in a day\")\n",
        "plt.ylabel(\"Percentage score\")\n",
        "plt.show()"
      ],
      "execution_count": null,
      "outputs": [
        {
          "output_type": "display_data",
          "data": {
            "image/png": "[encoded data removed]",
            "text/plain": [
              "<Figure size 432x288 with 1 Axes>"
            ]
          },
          "metadata": {
            "tags": [],
            "needs_background": "light"
          }
        }
      ]
    },
    {
      "cell_type": "markdown",
      "metadata": {
        "id": "vvBVT8o6D86B"
      },
      "source": [
        "**DATA PREPROCESSING STARTS HERE**"
      ]
    },
    {
      "cell_type": "code",
      "metadata": {
        "id": "nEE47aXxjeRq"
      },
      "source": [
        "#Dividing the data into attributes and output\n",
        "#X is a featured matrix and y is a vector of prediction\n",
        "X=data.iloc[:,:-1].values\n",
        "y=data.iloc[:,1].values"
      ],
      "execution_count": null,
      "outputs": []
    },
    {
      "cell_type": "code",
      "metadata": {
        "id": "qRFvz8NGkNfX"
      },
      "source": [
        "#Splitting the Dataset into Training and Testing Dataset\n",
        "from sklearn.model_selection import train_test_split\n",
        "X_train,X_test,y_train,y_test=train_test_split(X,y,test_size=0.25,random_state=0)\n"
      ],
      "execution_count": null,
      "outputs": []
    },
    {
      "cell_type": "code",
      "metadata": {
        "colab": {
          "base_uri": "https://localhost:8080/"
        },
        "id": "C4i-54yCk0_p",
        "outputId": "ac2e0cd2-48da-422d-99cd-a0e34f2ca3d8"
      },
      "source": [
        "#Training the algorithm\n",
        "from sklearn.linear_model import LinearRegression\n",
        "lin_reg=LinearRegression()\n",
        "lin_reg.fit(X_train,y_train)\n",
        "print(\"Training the algorithm is complete!!\")"
      ],
      "execution_count": null,
      "outputs": [
        {
          "output_type": "stream",
          "text": [
            "Training the algorithm is complete!!\n"
          ],
          "name": "stdout"
        }
      ]
    },
    {
      "cell_type": "code",
      "metadata": {
        "id": "fapzu_65oZRV",
        "colab": {
          "base_uri": "https://localhost:8080/",
          "height": 265
        },
        "outputId": "5759c7ec-965c-4481-eb92-8c5ab6d67661"
      },
      "source": [
        "#Plotting the regression line\n",
        "#y=mx+c , m is a coef_ and c is the intercept_\n",
        "line=lin_reg.coef_*X+lin_reg.intercept_\n",
        "\n",
        "#Plotting the data\n",
        "plt.scatter(X,y)\n",
        "plt.plot(X,line)\n",
        "plt.show()"
      ],
      "execution_count": null,
      "outputs": [
        {
          "output_type": "display_data",
          "data": {
            "image/png": "[encoded data removed]",
            "text/plain": [
              "<Figure size 432x288 with 1 Axes>"
            ]
          },
          "metadata": {
            "tags": [],
            "needs_background": "light"
          }
        }
      ]
    },
    {
      "cell_type": "code",
      "metadata": {
        "id": "Cx2xcLYspvQW",
        "colab": {
          "base_uri": "https://localhost:8080/"
        },
        "outputId": "2abc5d3c-6b5a-4344-afc9-b9dfe0c7704e"
      },
      "source": [
        "print(X_test)\n"
      ],
      "execution_count": null,
      "outputs": [
        {
          "output_type": "stream",
          "text": [
            "[[1.5]\n",
            " [3.2]\n",
            " [7.4]\n",
            " [2.5]\n",
            " [5.9]\n",
            " [3.8]\n",
            " [1.9]]\n"
          ],
          "name": "stdout"
        }
      ]
    },
    {
      "cell_type": "code",
      "metadata": {
        "id": "0W_TDquXqLgo",
        "colab": {
          "base_uri": "https://localhost:8080/"
        },
        "outputId": "b5fa301f-7953-4abf-8e75-62c60084019e"
      },
      "source": [
        "#Making the predictions\n",
        "y_pred=lin_reg.predict(X_test)\n",
        "y_pred"
      ],
      "execution_count": null,
      "outputs": [
        {
          "output_type": "execute_result",
          "data": {
            "text/plain": [
              "array([16.84472176, 33.74557494, 75.50062397, 26.7864001 , 60.58810646,\n",
              "       39.71058194, 20.8213931 ])"
            ]
          },
          "metadata": {
            "tags": []
          },
          "execution_count": 48
        }
      ]
    },
    {
      "cell_type": "code",
      "metadata": {
        "id": "tejm9HwWqYIR",
        "colab": {
          "base_uri": "https://localhost:8080/",
          "height": 254
        },
        "outputId": "ac850590-e8a9-4a5c-802f-ae9d55647c36"
      },
      "source": [
        "#Comparing Actual VS Predicted\n",
        "df=pd.DataFrame({'Actual':y_test,'Predicted':y_pred})\n",
        "df "
      ],
      "execution_count": null,
      "outputs": [
        {
          "output_type": "execute_result",
          "data": {
            "text/html": [
              "<div>\n",
              "<style scoped>\n",
              "    .dataframe tbody tr th:only-of-type {\n",
              "        vertical-align: middle;\n",
              "    }\n",
              "\n",
              "    .dataframe tbody tr th {\n",
              "        vertical-align: top;\n",
              "    }\n",
              "\n",
              "    .dataframe thead th {\n",
              "        text-align: right;\n",
              "    }\n",
              "</style>\n",
              "<table border=\"1\" class=\"dataframe\">\n",
              "  <thead>\n",
              "    <tr style=\"text-align: right;\">\n",
              "      <th></th>\n",
              "      <th>Actual</th>\n",
              "      <th>Predicted</th>\n",
              "    </tr>\n",
              "  </thead>\n",
              "  <tbody>\n",
              "    <tr>\n",
              "      <th>0</th>\n",
              "      <td>20</td>\n",
              "      <td>16.844722</td>\n",
              "    </tr>\n",
              "    <tr>\n",
              "      <th>1</th>\n",
              "      <td>27</td>\n",
              "      <td>33.745575</td>\n",
              "    </tr>\n",
              "    <tr>\n",
              "      <th>2</th>\n",
              "      <td>69</td>\n",
              "      <td>75.500624</td>\n",
              "    </tr>\n",
              "    <tr>\n",
              "      <th>3</th>\n",
              "      <td>30</td>\n",
              "      <td>26.786400</td>\n",
              "    </tr>\n",
              "    <tr>\n",
              "      <th>4</th>\n",
              "      <td>62</td>\n",
              "      <td>60.588106</td>\n",
              "    </tr>\n",
              "    <tr>\n",
              "      <th>5</th>\n",
              "      <td>35</td>\n",
              "      <td>39.710582</td>\n",
              "    </tr>\n",
              "    <tr>\n",
              "      <th>6</th>\n",
              "      <td>24</td>\n",
              "      <td>20.821393</td>\n",
              "    </tr>\n",
              "  </tbody>\n",
              "</table>\n",
              "</div>"
            ],
            "text/plain": [
              "   Actual  Predicted\n",
              "0      20  16.844722\n",
              "1      27  33.745575\n",
              "2      69  75.500624\n",
              "3      30  26.786400\n",
              "4      62  60.588106\n",
              "5      35  39.710582\n",
              "6      24  20.821393"
            ]
          },
          "metadata": {
            "tags": []
          },
          "execution_count": 40
        }
      ]
    },
    {
      "cell_type": "code",
      "metadata": {
        "id": "fL3EXhmgqyB-",
        "colab": {
          "base_uri": "https://localhost:8080/"
        },
        "outputId": "5563ed1c-ff19-490e-88a9-d3e72354896f"
      },
      "source": [
        "#You can also test with your own data\n",
        "hours=[[9.25]]\n",
        "own_pred=lin_reg.predict(hours)\n",
        "print(\"No Of Hours={}\".format(hours))\n",
        "print(\"Prediction Score =\",own_pred)"
      ],
      "execution_count": null,
      "outputs": [
        {
          "output_type": "stream",
          "text": [
            "No Of Hours=[[9.25]]\n",
            "Prediction Score = [93.89272889]\n"
          ],
          "name": "stdout"
        }
      ]
    }
  ]
}